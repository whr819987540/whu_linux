{
 "cells": [
  {
   "cell_type": "code",
   "execution_count": 1,
   "metadata": {},
   "outputs": [],
   "source": [
    "import torch\n",
    "import copy\n",
    "from torch import nn\n",
    "\n",
    "class Model(nn.Module):\n",
    "    def __init__(self):\n",
    "        super().__init__()\n",
    "        self.linear_1 = nn.Linear(in_features=2, out_features=1)\n",
    "    def forward(self, input):\n",
    "        x = torch.relu(self.linear_1(input))\n",
    "        return x\n"
   ]
  },
  {
   "cell_type": "code",
   "execution_count": 2,
   "metadata": {},
   "outputs": [],
   "source": [
    "model_1 = Model()\n",
    "model_2 = copy.deepcopy(model_1)\n"
   ]
  },
  {
   "cell_type": "code",
   "execution_count": 3,
   "metadata": {},
   "outputs": [
    {
     "name": "stdout",
     "output_type": "stream",
     "text": [
      "model 1, linear_1.weight, Parameter containing:\n",
      "tensor([[-0.0183,  0.1212]], requires_grad=True)\n",
      "model 1, linear_1.bias, Parameter containing:\n",
      "tensor([-0.0386], requires_grad=True)\n"
     ]
    }
   ],
   "source": [
    "for name, param in model_1.named_parameters():\n",
    "    print(f\"model 1, {name}, {param}\")"
   ]
  },
  {
   "cell_type": "code",
   "execution_count": 4,
   "metadata": {},
   "outputs": [
    {
     "name": "stdout",
     "output_type": "stream",
     "text": [
      "model 2, linear_1.weight, Parameter containing:\n",
      "tensor([[-0.0183,  0.1212]], requires_grad=True)\n",
      "model 2, linear_1.bias, Parameter containing:\n",
      "tensor([-0.0386], requires_grad=True)\n"
     ]
    }
   ],
   "source": [
    "for name, param in model_2.named_parameters():\n",
    "    print(f\"model 2, {name}, {param}\")"
   ]
  },
  {
   "cell_type": "code",
   "execution_count": 5,
   "metadata": {},
   "outputs": [],
   "source": [
    "for name, param in model_1.named_parameters():\n",
    "    param.data = param.data * 2"
   ]
  },
  {
   "cell_type": "code",
   "execution_count": 6,
   "metadata": {},
   "outputs": [
    {
     "name": "stdout",
     "output_type": "stream",
     "text": [
      "model 1, linear_1.weight, Parameter containing:\n",
      "tensor([[-0.0366,  0.2424]], requires_grad=True)\n",
      "model 1, linear_1.bias, Parameter containing:\n",
      "tensor([-0.0772], requires_grad=True)\n"
     ]
    }
   ],
   "source": [
    "for name, param in model_1.named_parameters():\n",
    "    print(f\"model 1, {name}, {param}\")"
   ]
  },
  {
   "cell_type": "code",
   "execution_count": 7,
   "metadata": {},
   "outputs": [
    {
     "name": "stdout",
     "output_type": "stream",
     "text": [
      "model 2, linear_1.weight, Parameter containing:\n",
      "tensor([[-0.0183,  0.1212]], requires_grad=True)\n",
      "model 2, linear_1.bias, Parameter containing:\n",
      "tensor([-0.0386], requires_grad=True)\n"
     ]
    }
   ],
   "source": [
    "for name, param in model_2.named_parameters():\n",
    "    print(f\"model 2, {name}, {param}\")"
   ]
  }
 ],
 "metadata": {
  "kernelspec": {
   "display_name": "whr",
   "language": "python",
   "name": "python3"
  },
  "language_info": {
   "codemirror_mode": {
    "name": "ipython",
    "version": 3
   },
   "file_extension": ".py",
   "mimetype": "text/x-python",
   "name": "python",
   "nbconvert_exporter": "python",
   "pygments_lexer": "ipython3",
   "version": "3.8.16"
  },
  "orig_nbformat": 4
 },
 "nbformat": 4,
 "nbformat_minor": 2
}
