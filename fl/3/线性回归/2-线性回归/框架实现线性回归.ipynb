{
 "cells": [
  {
   "cell_type": "code",
   "execution_count": 1,
   "metadata": {},
   "outputs": [],
   "source": [
    "import numpy as np\n",
    "import torch\n",
    "from torch.utils import data # 加载数据\n",
    "from torch import nn # 定义网络结构"
   ]
  },
  {
   "cell_type": "code",
   "execution_count": 2,
   "metadata": {},
   "outputs": [],
   "source": [
    "w = torch.tensor([2,-3.4])\n",
    "b = 4.2\n",
    "n = 1000"
   ]
  },
  {
   "cell_type": "markdown",
   "metadata": {},
   "source": [
    "## 生成数据"
   ]
  },
  {
   "cell_type": "code",
   "execution_count": 3,
   "metadata": {},
   "outputs": [],
   "source": [
    "def get_data(w,b,sample_number):\n",
    "    x = torch.normal(0,1,(sample_number,w.shape[0]))\n",
    "    y = torch.matmul(x,w) + b + torch.normal(0,0.01,(sample_number,))\n",
    "    return x,y.reshape(-1,1)"
   ]
  },
  {
   "cell_type": "code",
   "execution_count": 4,
   "metadata": {},
   "outputs": [],
   "source": [
    "features,labels = get_data(w,b,n)"
   ]
  },
  {
   "cell_type": "markdown",
   "metadata": {},
   "source": [
    "## 加载数据"
   ]
  },
  {
   "cell_type": "code",
   "execution_count": 5,
   "metadata": {},
   "outputs": [],
   "source": [
    "def load_data(my_data,batch_size,is_train=True):\n",
    "    dataset = data.TensorDataset(*my_data)\n",
    "    # shuffle决定数据在每个迭代周期内是否是乱序的\n",
    "    return data.DataLoader(dataset,batch_size,shuffle=is_train)"
   ]
  },
  {
   "cell_type": "code",
   "execution_count": 6,
   "metadata": {},
   "outputs": [],
   "source": [
    "batch_size = 10"
   ]
  },
  {
   "cell_type": "code",
   "execution_count": 7,
   "metadata": {},
   "outputs": [
    {
     "data": {
      "text/plain": [
       "torch.Size([1000, 2])"
      ]
     },
     "execution_count": 7,
     "metadata": {},
     "output_type": "execute_result"
    }
   ],
   "source": [
    "features.shape"
   ]
  },
  {
   "cell_type": "code",
   "execution_count": 8,
   "metadata": {},
   "outputs": [
    {
     "data": {
      "text/plain": [
       "torch.Size([1000, 1])"
      ]
     },
     "execution_count": 8,
     "metadata": {},
     "output_type": "execute_result"
    }
   ],
   "source": [
    "labels.shape"
   ]
  },
  {
   "cell_type": "code",
   "execution_count": 9,
   "metadata": {},
   "outputs": [],
   "source": [
    "# next(iter(load_data((features,labels),batch_size)))"
   ]
  },
  {
   "cell_type": "code",
   "execution_count": 10,
   "metadata": {},
   "outputs": [],
   "source": [
    "data_loader = load_data((features,labels),batch_size)"
   ]
  },
  {
   "cell_type": "markdown",
   "metadata": {},
   "source": [
    "## 定义模型"
   ]
  },
  {
   "cell_type": "code",
   "execution_count": 11,
   "metadata": {},
   "outputs": [],
   "source": [
    "net = nn.Sequential(\n",
    "    nn.Linear(2,1),# 第一个参数是输入维度，第二个参数是输出维度\n",
    ")"
   ]
  },
  {
   "cell_type": "markdown",
   "metadata": {},
   "source": [
    "## 模型参数初始化"
   ]
  },
  {
   "cell_type": "code",
   "execution_count": 12,
   "metadata": {},
   "outputs": [
    {
     "data": {
      "text/plain": [
       "Parameter containing:\n",
       "tensor([[0.6055, 0.2091]], requires_grad=True)"
      ]
     },
     "execution_count": 12,
     "metadata": {},
     "output_type": "execute_result"
    }
   ],
   "source": [
    "net[0].weight # net[0]是神经网络的第0层"
   ]
  },
  {
   "cell_type": "code",
   "execution_count": 13,
   "metadata": {},
   "outputs": [
    {
     "data": {
      "text/plain": [
       "tensor([[-0.0029,  0.0034]])"
      ]
     },
     "execution_count": 13,
     "metadata": {},
     "output_type": "execute_result"
    }
   ],
   "source": [
    "net[0].weight.data.normal_(0,0.01)"
   ]
  },
  {
   "cell_type": "code",
   "execution_count": 14,
   "metadata": {},
   "outputs": [
    {
     "data": {
      "text/plain": [
       "Parameter containing:\n",
       "tensor([[-0.0029,  0.0034]], requires_grad=True)"
      ]
     },
     "execution_count": 14,
     "metadata": {},
     "output_type": "execute_result"
    }
   ],
   "source": [
    "net[0].weight"
   ]
  },
  {
   "cell_type": "code",
   "execution_count": 15,
   "metadata": {},
   "outputs": [
    {
     "data": {
      "text/plain": [
       "Parameter containing:\n",
       "tensor([-0.3525], requires_grad=True)"
      ]
     },
     "execution_count": 15,
     "metadata": {},
     "output_type": "execute_result"
    }
   ],
   "source": [
    "net[0].bias"
   ]
  },
  {
   "cell_type": "code",
   "execution_count": 16,
   "metadata": {},
   "outputs": [
    {
     "data": {
      "text/plain": [
       "tensor([0.])"
      ]
     },
     "execution_count": 16,
     "metadata": {},
     "output_type": "execute_result"
    }
   ],
   "source": [
    "net[0].bias.data.fill_(0)"
   ]
  },
  {
   "cell_type": "code",
   "execution_count": 17,
   "metadata": {},
   "outputs": [
    {
     "data": {
      "text/plain": [
       "Parameter containing:\n",
       "tensor([0.], requires_grad=True)"
      ]
     },
     "execution_count": 17,
     "metadata": {},
     "output_type": "execute_result"
    }
   ],
   "source": [
    "net[0].bias"
   ]
  },
  {
   "cell_type": "markdown",
   "metadata": {},
   "source": [
    "## 定义损失函数"
   ]
  },
  {
   "cell_type": "code",
   "execution_count": 18,
   "metadata": {},
   "outputs": [],
   "source": [
    "loss = nn.MSELoss() # 均方差作为损失函数"
   ]
  },
  {
   "cell_type": "markdown",
   "metadata": {},
   "source": [
    "## 定义优化算法"
   ]
  },
  {
   "cell_type": "code",
   "execution_count": 19,
   "metadata": {},
   "outputs": [],
   "source": [
    "# SGD就是利用随机梯度下降实现的优化算法\n",
    "# parameters是要优化的参数，也就是要在迭代过程中用梯度修正的参数\n",
    "# lr还是学习率\n",
    "trainer = torch.optim.SGD(params=net.parameters(),lr=0.03)"
   ]
  },
  {
   "cell_type": "markdown",
   "metadata": {},
   "source": [
    "## 迭代过程"
   ]
  },
  {
   "cell_type": "code",
   "execution_count": 20,
   "metadata": {},
   "outputs": [],
   "source": [
    "epochs = 30"
   ]
  },
  {
   "cell_type": "code",
   "execution_count": 21,
   "metadata": {},
   "outputs": [
    {
     "name": "stdout",
     "output_type": "stream",
     "text": [
      "epoch 0, loss 0.0002098849945468828, w tensor([[ 1.9984, -3.3942]]), b tensor([4.1919])\n",
      "epoch 1, loss 0.00011101487325504422, w tensor([[ 2.0001, -3.3998]]), b tensor([4.1991])\n",
      "epoch 2, loss 0.00011117455142084509, w tensor([[ 2.0006, -3.3996]]), b tensor([4.1998])\n",
      "epoch 3, loss 0.00011076741066062823, w tensor([[ 1.9995, -3.4006]]), b tensor([4.1999])\n",
      "epoch 4, loss 0.0001122849207604304, w tensor([[ 2.0002, -3.3998]]), b tensor([4.2011])\n",
      "epoch 5, loss 0.00011071480548707768, w tensor([[ 1.9991, -3.4001]]), b tensor([4.2000])\n",
      "epoch 6, loss 0.00011186307528987527, w tensor([[ 1.9989, -3.4000]]), b tensor([4.1989])\n",
      "epoch 7, loss 0.000110965920612216, w tensor([[ 2.0002, -3.4003]]), b tensor([4.2003])\n",
      "epoch 8, loss 0.00011054243805119768, w tensor([[ 1.9999, -3.4003]]), b tensor([4.2000])\n",
      "epoch 9, loss 0.00011166548210894689, w tensor([[ 2.0007, -3.4004]]), b tensor([4.2003])\n",
      "epoch 10, loss 0.00011042208643630147, w tensor([[ 1.9995, -3.4000]]), b tensor([4.1996])\n",
      "epoch 11, loss 0.0001104525726987049, w tensor([[ 1.9998, -3.3999]]), b tensor([4.1995])\n",
      "epoch 12, loss 0.00011076307418989018, w tensor([[ 1.9991, -3.3999]]), b tensor([4.1996])\n",
      "epoch 13, loss 0.00011130238272016868, w tensor([[ 1.9988, -3.3996]]), b tensor([4.1998])\n",
      "epoch 14, loss 0.00011047984298784286, w tensor([[ 1.9997, -3.3999]]), b tensor([4.1995])\n",
      "epoch 15, loss 0.00011061973782489076, w tensor([[ 2.0002, -3.4001]]), b tensor([4.1999])\n",
      "epoch 16, loss 0.0001105447081499733, w tensor([[ 1.9999, -3.4004]]), b tensor([4.1998])\n",
      "epoch 17, loss 0.00011062133853556588, w tensor([[ 1.9993, -3.3997]]), b tensor([4.1996])\n",
      "epoch 18, loss 0.0001107609859900549, w tensor([[ 1.9991, -3.3998]]), b tensor([4.1997])\n",
      "epoch 19, loss 0.00011043423728551716, w tensor([[ 1.9995, -3.3999]]), b tensor([4.2000])\n",
      "epoch 20, loss 0.00011157496192026883, w tensor([[ 1.9989, -3.3999]]), b tensor([4.1991])\n",
      "epoch 21, loss 0.00011127360630780458, w tensor([[ 1.9989, -3.4006]]), b tensor([4.1996])\n",
      "epoch 22, loss 0.00011293169518467039, w tensor([[ 1.9998, -3.3984]]), b tensor([4.1996])\n",
      "epoch 23, loss 0.00011050757893826813, w tensor([[ 1.9998, -3.3999]]), b tensor([4.1994])\n",
      "epoch 24, loss 0.00011339819320710376, w tensor([[ 1.9989, -3.3995]]), b tensor([4.2013])\n",
      "epoch 25, loss 0.00011046803410863504, w tensor([[ 1.9994, -3.3999]]), b tensor([4.1999])\n",
      "epoch 26, loss 0.00011037406511604786, w tensor([[ 1.9996, -3.4001]]), b tensor([4.1999])\n",
      "epoch 27, loss 0.0001107970456359908, w tensor([[ 2.0004, -3.3999]]), b tensor([4.1997])\n",
      "epoch 28, loss 0.0001103693648474291, w tensor([[ 1.9998, -3.3998]]), b tensor([4.1997])\n",
      "epoch 29, loss 0.00011098193499492481, w tensor([[ 2.0000, -3.4002]]), b tensor([4.1991])\n"
     ]
    }
   ],
   "source": [
    "for epoch in range(epochs): # 迭代\n",
    "    for x,y in data_loader: # 加载小批量训练数据\n",
    "        y_hat = net(x) # 预测值\n",
    "        l = loss(y_hat,y) # 根据预测值与观察值计算损失函数\n",
    "        trainer.zero_grad() # 反向传播前梯度清零, Sets the gradients of all optimized torch.Tensor s to zero\n",
    "        l.backward() # 反向传播\n",
    "        trainer.step() # 优化，更新模型参数, Performs a single optimization step (parameter update).\n",
    "    # 计算一次迭代后的误差\n",
    "    labels_hat = net(features)\n",
    "    l = loss(labels_hat,labels)\n",
    "    print(f\"epoch {epoch}, loss {l}, w {net[0].weight.data}, b {net[0].bias.data}\")"
   ]
  }
 ],
 "metadata": {
  "kernelspec": {
   "display_name": "Python 3.8.13 ('pytorch')",
   "language": "python",
   "name": "python3"
  },
  "language_info": {
   "codemirror_mode": {
    "name": "ipython",
    "version": 3
   },
   "file_extension": ".py",
   "mimetype": "text/x-python",
   "name": "python",
   "nbconvert_exporter": "python",
   "pygments_lexer": "ipython3",
   "version": "3.8.13"
  },
  "orig_nbformat": 4,
  "vscode": {
   "interpreter": {
    "hash": "c6a5381c313c4ee6411d11fe4393f2bbb58c85b55ae7c8c208703d8b6049241e"
   }
  }
 },
 "nbformat": 4,
 "nbformat_minor": 2
}
