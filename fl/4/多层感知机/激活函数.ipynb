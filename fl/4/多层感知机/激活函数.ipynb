{
 "cells": [
  {
   "cell_type": "code",
   "execution_count": 1,
   "metadata": {},
   "outputs": [],
   "source": [
    "import torch\n",
    "from matplotlib import pyplot as plt"
   ]
  },
  {
   "cell_type": "markdown",
   "metadata": {},
   "source": [
    "## ReLU"
   ]
  },
  {
   "cell_type": "markdown",
   "metadata": {},
   "source": [
    "$$\n",
    "    ReLU(x) = max(0,x)\n",
    "$$"
   ]
  },
  {
   "cell_type": "markdown",
   "metadata": {},
   "source": [
    "### 函数图像"
   ]
  },
  {
   "cell_type": "code",
   "execution_count": 2,
   "metadata": {},
   "outputs": [],
   "source": [
    "x = torch.arange(-5,5,0.1,requires_grad=True)\n",
    "y = torch.relu(x)"
   ]
  },
  {
   "cell_type": "code",
   "execution_count": 3,
   "metadata": {},
   "outputs": [
    {
     "data": {
      "text/plain": [
       "tensor([0.0000, 0.0000, 0.0000, 0.0000, 0.0000, 0.0000, 0.0000, 0.0000, 0.0000,\n",
       "        0.0000, 0.0000, 0.0000, 0.0000, 0.0000, 0.0000, 0.0000, 0.0000, 0.0000,\n",
       "        0.0000, 0.0000, 0.0000, 0.0000, 0.0000, 0.0000, 0.0000, 0.0000, 0.0000,\n",
       "        0.0000, 0.0000, 0.0000, 0.0000, 0.0000, 0.0000, 0.0000, 0.0000, 0.0000,\n",
       "        0.0000, 0.0000, 0.0000, 0.0000, 0.0000, 0.0000, 0.0000, 0.0000, 0.0000,\n",
       "        0.0000, 0.0000, 0.0000, 0.0000, 0.0000, 0.0000, 0.1000, 0.2000, 0.3000,\n",
       "        0.4000, 0.5000, 0.6000, 0.7000, 0.8000, 0.9000, 1.0000, 1.1000, 1.2000,\n",
       "        1.3000, 1.4000, 1.5000, 1.6000, 1.7000, 1.8000, 1.9000, 2.0000, 2.1000,\n",
       "        2.2000, 2.3000, 2.4000, 2.5000, 2.6000, 2.7000, 2.8000, 2.9000, 3.0000,\n",
       "        3.1000, 3.2000, 3.3000, 3.4000, 3.5000, 3.6000, 3.7000, 3.8000, 3.9000,\n",
       "        4.0000, 4.1000, 4.2000, 4.3000, 4.4000, 4.5000, 4.6000, 4.7000, 4.8000,\n",
       "        4.9000], grad_fn=<ReluBackward0>)"
      ]
     },
     "execution_count": 3,
     "metadata": {},
     "output_type": "execute_result"
    }
   ],
   "source": [
    "y"
   ]
  },
  {
   "cell_type": "code",
   "execution_count": 4,
   "metadata": {},
   "outputs": [
    {
     "data": {
      "image/png": "[encoded data removed]",
      "text/plain": [
       "<Figure size 432x288 with 1 Axes>"
      ]
     },
     "metadata": {
      "needs_background": "light"
     },
     "output_type": "display_data"
    }
   ],
   "source": [
    "plt.plot(x.detach(),y.detach())\n",
    "plt.xlabel(\"x\")\n",
    "plt.ylabel(\"ReLU(x) = max(0,x)\")\n",
    "plt.grid(True)"
   ]
  },
  {
   "cell_type": "markdown",
   "metadata": {},
   "source": [
    "### 导数图像"
   ]
  },
  {
   "cell_type": "code",
   "execution_count": 5,
   "metadata": {},
   "outputs": [],
   "source": [
    "x.grad"
   ]
  },
  {
   "cell_type": "code",
   "execution_count": 6,
   "metadata": {},
   "outputs": [],
   "source": [
    "y.backward(torch.ones_like(x))"
   ]
  },
  {
   "cell_type": "code",
   "execution_count": 7,
   "metadata": {},
   "outputs": [
    {
     "data": {
      "text/plain": [
       "tensor([0., 0., 0., 0., 0., 0., 0., 0., 0., 0., 0., 0., 0., 0., 0., 0., 0., 0.,\n",
       "        0., 0., 0., 0., 0., 0., 0., 0., 0., 0., 0., 0., 0., 0., 0., 0., 0., 0.,\n",
       "        0., 0., 0., 0., 0., 0., 0., 0., 0., 0., 0., 0., 0., 0., 0., 1., 1., 1.,\n",
       "        1., 1., 1., 1., 1., 1., 1., 1., 1., 1., 1., 1., 1., 1., 1., 1., 1., 1.,\n",
       "        1., 1., 1., 1., 1., 1., 1., 1., 1., 1., 1., 1., 1., 1., 1., 1., 1., 1.,\n",
       "        1., 1., 1., 1., 1., 1., 1., 1., 1., 1.])"
      ]
     },
     "execution_count": 7,
     "metadata": {},
     "output_type": "execute_result"
    }
   ],
   "source": [
    "x.grad"
   ]
  },
  {
   "cell_type": "code",
   "execution_count": 8,
   "metadata": {},
   "outputs": [
    {
     "data": {
      "image/png": "[encoded data removed]",
      "text/plain": [
       "<Figure size 432x288 with 1 Axes>"
      ]
     },
     "metadata": {
      "needs_background": "light"
     },
     "output_type": "display_data"
    }
   ],
   "source": [
    "plt.plot(x.detach(),x.grad)\n",
    "plt.xlabel(\"x\")\n",
    "plt.ylabel(\"grad(ReLU(x))\")\n",
    "plt.grid(True)"
   ]
  },
  {
   "cell_type": "markdown",
   "metadata": {},
   "source": [
    "## sigmoid"
   ]
  },
  {
   "cell_type": "markdown",
   "metadata": {},
   "source": [
    "$$\n",
    "    sigmoid(x) = \\frac {1} {1+e^{-x}}\n",
    "$$"
   ]
  },
  {
   "cell_type": "code",
   "execution_count": 9,
   "metadata": {},
   "outputs": [
    {
     "data": {
      "text/plain": [
       "tensor([0.0067, 0.0074, 0.0082, 0.0090, 0.0100, 0.0110, 0.0121, 0.0134, 0.0148,\n",
       "        0.0163, 0.0180, 0.0198, 0.0219, 0.0241, 0.0266, 0.0293, 0.0323, 0.0356,\n",
       "        0.0392, 0.0431, 0.0474, 0.0522, 0.0573, 0.0630, 0.0691, 0.0759, 0.0832,\n",
       "        0.0911, 0.0998, 0.1091, 0.1192, 0.1301, 0.1419, 0.1545, 0.1680, 0.1824,\n",
       "        0.1978, 0.2142, 0.2315, 0.2497, 0.2689, 0.2891, 0.3100, 0.3318, 0.3543,\n",
       "        0.3775, 0.4013, 0.4256, 0.4502, 0.4750, 0.5000, 0.5250, 0.5498, 0.5744,\n",
       "        0.5987, 0.6225, 0.6457, 0.6682, 0.6900, 0.7109, 0.7311, 0.7503, 0.7685,\n",
       "        0.7858, 0.8022, 0.8176, 0.8320, 0.8455, 0.8581, 0.8699, 0.8808, 0.8909,\n",
       "        0.9002, 0.9089, 0.9168, 0.9241, 0.9309, 0.9370, 0.9427, 0.9478, 0.9526,\n",
       "        0.9569, 0.9608, 0.9644, 0.9677, 0.9707, 0.9734, 0.9759, 0.9781, 0.9802,\n",
       "        0.9820, 0.9837, 0.9852, 0.9866, 0.9879, 0.9890, 0.9900, 0.9910, 0.9918,\n",
       "        0.9926], grad_fn=<SigmoidBackward0>)"
      ]
     },
     "execution_count": 9,
     "metadata": {},
     "output_type": "execute_result"
    }
   ],
   "source": [
    "y = torch.sigmoid(x)\n",
    "y"
   ]
  },
  {
   "cell_type": "markdown",
   "metadata": {},
   "source": [
    "### torch.Tensor.detach()"
   ]
  },
  {
   "cell_type": "code",
   "execution_count": 10,
   "metadata": {},
   "outputs": [],
   "source": [
    "# plt.plot(x,y)\n",
    "# plt.xlabel(\"x\")\n",
    "# plt.ylabel(\"sigmoid(x)=1/(1+e^x)\")"
   ]
  },
  {
   "cell_type": "markdown",
   "metadata": {},
   "source": [
    "### 函数图像"
   ]
  },
  {
   "cell_type": "code",
   "execution_count": 11,
   "metadata": {},
   "outputs": [
    {
     "data": {
      "image/png": "[encoded data removed]",
      "text/plain": [
       "<Figure size 432x288 with 1 Axes>"
      ]
     },
     "metadata": {
      "needs_background": "light"
     },
     "output_type": "display_data"
    }
   ],
   "source": [
    "plt.plot(x.detach(),y.detach())\n",
    "plt.xlabel(\"x\")\n",
    "plt.ylabel(\"sigmoid(x)=$\\\\frac {1} {1+e^{-x}}$\")\n",
    "plt.grid(True)"
   ]
  },
  {
   "cell_type": "markdown",
   "metadata": {},
   "source": [
    "### 导数图像"
   ]
  },
  {
   "cell_type": "code",
   "execution_count": 12,
   "metadata": {},
   "outputs": [
    {
     "data": {
      "text/plain": [
       "tensor([0., 0., 0., 0., 0., 0., 0., 0., 0., 0., 0., 0., 0., 0., 0., 0., 0., 0.,\n",
       "        0., 0., 0., 0., 0., 0., 0., 0., 0., 0., 0., 0., 0., 0., 0., 0., 0., 0.,\n",
       "        0., 0., 0., 0., 0., 0., 0., 0., 0., 0., 0., 0., 0., 0., 0., 1., 1., 1.,\n",
       "        1., 1., 1., 1., 1., 1., 1., 1., 1., 1., 1., 1., 1., 1., 1., 1., 1., 1.,\n",
       "        1., 1., 1., 1., 1., 1., 1., 1., 1., 1., 1., 1., 1., 1., 1., 1., 1., 1.,\n",
       "        1., 1., 1., 1., 1., 1., 1., 1., 1., 1.])"
      ]
     },
     "execution_count": 12,
     "metadata": {},
     "output_type": "execute_result"
    }
   ],
   "source": [
    "x.grad"
   ]
  },
  {
   "cell_type": "markdown",
   "metadata": {},
   "source": [
    "#### 梯度清零"
   ]
  },
  {
   "cell_type": "code",
   "execution_count": 13,
   "metadata": {},
   "outputs": [
    {
     "data": {
      "text/plain": [
       "tensor([0., 0., 0., 0., 0., 0., 0., 0., 0., 0., 0., 0., 0., 0., 0., 0., 0., 0., 0., 0., 0., 0., 0., 0.,\n",
       "        0., 0., 0., 0., 0., 0., 0., 0., 0., 0., 0., 0., 0., 0., 0., 0., 0., 0., 0., 0., 0., 0., 0., 0.,\n",
       "        0., 0., 0., 0., 0., 0., 0., 0., 0., 0., 0., 0., 0., 0., 0., 0., 0., 0., 0., 0., 0., 0., 0., 0.,\n",
       "        0., 0., 0., 0., 0., 0., 0., 0., 0., 0., 0., 0., 0., 0., 0., 0., 0., 0., 0., 0., 0., 0., 0., 0.,\n",
       "        0., 0., 0., 0.])"
      ]
     },
     "execution_count": 13,
     "metadata": {},
     "output_type": "execute_result"
    }
   ],
   "source": [
    "x.grad.zero_()"
   ]
  },
  {
   "cell_type": "code",
   "execution_count": 14,
   "metadata": {},
   "outputs": [
    {
     "data": {
      "text/plain": [
       "tensor([0., 0., 0., 0., 0., 0., 0., 0., 0., 0., 0., 0., 0., 0., 0., 0., 0., 0., 0., 0., 0., 0., 0., 0.,\n",
       "        0., 0., 0., 0., 0., 0., 0., 0., 0., 0., 0., 0., 0., 0., 0., 0., 0., 0., 0., 0., 0., 0., 0., 0.,\n",
       "        0., 0., 0., 0., 0., 0., 0., 0., 0., 0., 0., 0., 0., 0., 0., 0., 0., 0., 0., 0., 0., 0., 0., 0.,\n",
       "        0., 0., 0., 0., 0., 0., 0., 0., 0., 0., 0., 0., 0., 0., 0., 0., 0., 0., 0., 0., 0., 0., 0., 0.,\n",
       "        0., 0., 0., 0.])"
      ]
     },
     "execution_count": 14,
     "metadata": {},
     "output_type": "execute_result"
    }
   ],
   "source": [
    "x.grad"
   ]
  },
  {
   "cell_type": "code",
   "execution_count": 15,
   "metadata": {},
   "outputs": [],
   "source": [
    "y.backward(torch.ones_like(x))"
   ]
  },
  {
   "cell_type": "code",
   "execution_count": 16,
   "metadata": {},
   "outputs": [
    {
     "data": {
      "text/plain": [
       "tensor([0.0066, 0.0073, 0.0081, 0.0089, 0.0099, 0.0109, 0.0120, 0.0132, 0.0146,\n",
       "        0.0160, 0.0177, 0.0194, 0.0214, 0.0235, 0.0259, 0.0285, 0.0313, 0.0343,\n",
       "        0.0376, 0.0412, 0.0452, 0.0494, 0.0540, 0.0590, 0.0644, 0.0701, 0.0763,\n",
       "        0.0828, 0.0898, 0.0972, 0.1050, 0.1132, 0.1217, 0.1306, 0.1398, 0.1491,\n",
       "        0.1587, 0.1683, 0.1779, 0.1874, 0.1966, 0.2055, 0.2139, 0.2217, 0.2288,\n",
       "        0.2350, 0.2403, 0.2445, 0.2475, 0.2494, 0.2500, 0.2494, 0.2475, 0.2445,\n",
       "        0.2403, 0.2350, 0.2288, 0.2217, 0.2139, 0.2055, 0.1966, 0.1874, 0.1779,\n",
       "        0.1683, 0.1587, 0.1491, 0.1398, 0.1306, 0.1217, 0.1132, 0.1050, 0.0972,\n",
       "        0.0898, 0.0828, 0.0763, 0.0701, 0.0644, 0.0590, 0.0540, 0.0494, 0.0452,\n",
       "        0.0412, 0.0376, 0.0343, 0.0313, 0.0285, 0.0259, 0.0235, 0.0214, 0.0194,\n",
       "        0.0177, 0.0160, 0.0146, 0.0132, 0.0120, 0.0109, 0.0099, 0.0089, 0.0081,\n",
       "        0.0073])"
      ]
     },
     "execution_count": 16,
     "metadata": {},
     "output_type": "execute_result"
    }
   ],
   "source": [
    "x.grad"
   ]
  },
  {
   "cell_type": "code",
   "execution_count": 17,
   "metadata": {},
   "outputs": [
    {
     "data": {
      "image/png": "[encoded data removed]",
      "text/plain": [
       "<Figure size 432x288 with 1 Axes>"
      ]
     },
     "metadata": {
      "needs_background": "light"
     },
     "output_type": "display_data"
    }
   ],
   "source": [
    "plt.plot(x.detach(),x.grad)\n",
    "plt.xlabel(\"x\")\n",
    "plt.ylabel(\"grad(sigmoid(x))\")\n",
    "plt.grid(True)"
   ]
  },
  {
   "cell_type": "markdown",
   "metadata": {},
   "source": [
    "## tanh"
   ]
  },
  {
   "cell_type": "markdown",
   "metadata": {},
   "source": [
    "$$\n",
    "    tanh(x) = \\frac {1-e^{-2x}} {1+e^{-2x}}\n",
    "$$"
   ]
  },
  {
   "cell_type": "code",
   "execution_count": 18,
   "metadata": {},
   "outputs": [
    {
     "data": {
      "text/plain": [
       "tensor([-9.9991e-01, -9.9989e-01, -9.9986e-01, -9.9983e-01, -9.9980e-01,\n",
       "        -9.9975e-01, -9.9970e-01, -9.9963e-01, -9.9955e-01, -9.9945e-01,\n",
       "        -9.9933e-01, -9.9918e-01, -9.9900e-01, -9.9878e-01, -9.9851e-01,\n",
       "        -9.9818e-01, -9.9777e-01, -9.9728e-01, -9.9668e-01, -9.9595e-01,\n",
       "        -9.9505e-01, -9.9396e-01, -9.9263e-01, -9.9101e-01, -9.8903e-01,\n",
       "        -9.8661e-01, -9.8367e-01, -9.8010e-01, -9.7574e-01, -9.7045e-01,\n",
       "        -9.6403e-01, -9.5624e-01, -9.4681e-01, -9.3541e-01, -9.2167e-01,\n",
       "        -9.0515e-01, -8.8535e-01, -8.6172e-01, -8.3365e-01, -8.0050e-01,\n",
       "        -7.6159e-01, -7.1630e-01, -6.6404e-01, -6.0437e-01, -5.3705e-01,\n",
       "        -4.6212e-01, -3.7995e-01, -2.9131e-01, -1.9738e-01, -9.9668e-02,\n",
       "        -2.9802e-09,  9.9668e-02,  1.9738e-01,  2.9131e-01,  3.7995e-01,\n",
       "         4.6212e-01,  5.3705e-01,  6.0437e-01,  6.6404e-01,  7.1630e-01,\n",
       "         7.6159e-01,  8.0050e-01,  8.3365e-01,  8.6172e-01,  8.8535e-01,\n",
       "         9.0515e-01,  9.2167e-01,  9.3541e-01,  9.4681e-01,  9.5624e-01,\n",
       "         9.6403e-01,  9.7045e-01,  9.7574e-01,  9.8010e-01,  9.8367e-01,\n",
       "         9.8661e-01,  9.8903e-01,  9.9101e-01,  9.9263e-01,  9.9396e-01,\n",
       "         9.9505e-01,  9.9595e-01,  9.9668e-01,  9.9728e-01,  9.9777e-01,\n",
       "         9.9818e-01,  9.9851e-01,  9.9878e-01,  9.9900e-01,  9.9918e-01,\n",
       "         9.9933e-01,  9.9945e-01,  9.9955e-01,  9.9963e-01,  9.9970e-01,\n",
       "         9.9975e-01,  9.9980e-01,  9.9983e-01,  9.9986e-01,  9.9989e-01],\n",
       "       grad_fn=<TanhBackward0>)"
      ]
     },
     "execution_count": 18,
     "metadata": {},
     "output_type": "execute_result"
    }
   ],
   "source": [
    "y = torch.tanh(x)\n",
    "y"
   ]
  },
  {
   "cell_type": "markdown",
   "metadata": {},
   "source": [
    "### 函数图像"
   ]
  },
  {
   "cell_type": "code",
   "execution_count": 19,
   "metadata": {},
   "outputs": [
    {
     "data": {
      "image/png": "[encoded data removed]",
      "text/plain": [
       "<Figure size 432x288 with 1 Axes>"
      ]
     },
     "metadata": {
      "needs_background": "light"
     },
     "output_type": "display_data"
    }
   ],
   "source": [
    "plt.plot(x.detach(),y.detach())\n",
    "plt.xlabel(\"x\")\n",
    "plt.ylabel(\"tanh(x)=$\\\\frac {1-e^{-2x}} {1+e^{-2x}}$\")\n",
    "plt.grid(True)"
   ]
  },
  {
   "cell_type": "markdown",
   "metadata": {},
   "source": [
    "### 导数图像"
   ]
  },
  {
   "cell_type": "code",
   "execution_count": 20,
   "metadata": {},
   "outputs": [
    {
     "data": {
      "text/plain": [
       "tensor([0.0066, 0.0073, 0.0081, 0.0089, 0.0099, 0.0109, 0.0120, 0.0132, 0.0146,\n",
       "        0.0160, 0.0177, 0.0194, 0.0214, 0.0235, 0.0259, 0.0285, 0.0313, 0.0343,\n",
       "        0.0376, 0.0412, 0.0452, 0.0494, 0.0540, 0.0590, 0.0644, 0.0701, 0.0763,\n",
       "        0.0828, 0.0898, 0.0972, 0.1050, 0.1132, 0.1217, 0.1306, 0.1398, 0.1491,\n",
       "        0.1587, 0.1683, 0.1779, 0.1874, 0.1966, 0.2055, 0.2139, 0.2217, 0.2288,\n",
       "        0.2350, 0.2403, 0.2445, 0.2475, 0.2494, 0.2500, 0.2494, 0.2475, 0.2445,\n",
       "        0.2403, 0.2350, 0.2288, 0.2217, 0.2139, 0.2055, 0.1966, 0.1874, 0.1779,\n",
       "        0.1683, 0.1587, 0.1491, 0.1398, 0.1306, 0.1217, 0.1132, 0.1050, 0.0972,\n",
       "        0.0898, 0.0828, 0.0763, 0.0701, 0.0644, 0.0590, 0.0540, 0.0494, 0.0452,\n",
       "        0.0412, 0.0376, 0.0343, 0.0313, 0.0285, 0.0259, 0.0235, 0.0214, 0.0194,\n",
       "        0.0177, 0.0160, 0.0146, 0.0132, 0.0120, 0.0109, 0.0099, 0.0089, 0.0081,\n",
       "        0.0073])"
      ]
     },
     "execution_count": 20,
     "metadata": {},
     "output_type": "execute_result"
    }
   ],
   "source": [
    "x.grad"
   ]
  },
  {
   "cell_type": "code",
   "execution_count": 21,
   "metadata": {},
   "outputs": [
    {
     "data": {
      "text/plain": [
       "tensor([0., 0., 0., 0., 0., 0., 0., 0., 0., 0., 0., 0., 0., 0., 0., 0., 0., 0., 0., 0., 0., 0., 0., 0.,\n",
       "        0., 0., 0., 0., 0., 0., 0., 0., 0., 0., 0., 0., 0., 0., 0., 0., 0., 0., 0., 0., 0., 0., 0., 0.,\n",
       "        0., 0., 0., 0., 0., 0., 0., 0., 0., 0., 0., 0., 0., 0., 0., 0., 0., 0., 0., 0., 0., 0., 0., 0.,\n",
       "        0., 0., 0., 0., 0., 0., 0., 0., 0., 0., 0., 0., 0., 0., 0., 0., 0., 0., 0., 0., 0., 0., 0., 0.,\n",
       "        0., 0., 0., 0.])"
      ]
     },
     "execution_count": 21,
     "metadata": {},
     "output_type": "execute_result"
    }
   ],
   "source": [
    "x.grad.zero_()"
   ]
  },
  {
   "cell_type": "code",
   "execution_count": 22,
   "metadata": {},
   "outputs": [
    {
     "data": {
      "text/plain": [
       "tensor([0., 0., 0., 0., 0., 0., 0., 0., 0., 0., 0., 0., 0., 0., 0., 0., 0., 0., 0., 0., 0., 0., 0., 0.,\n",
       "        0., 0., 0., 0., 0., 0., 0., 0., 0., 0., 0., 0., 0., 0., 0., 0., 0., 0., 0., 0., 0., 0., 0., 0.,\n",
       "        0., 0., 0., 0., 0., 0., 0., 0., 0., 0., 0., 0., 0., 0., 0., 0., 0., 0., 0., 0., 0., 0., 0., 0.,\n",
       "        0., 0., 0., 0., 0., 0., 0., 0., 0., 0., 0., 0., 0., 0., 0., 0., 0., 0., 0., 0., 0., 0., 0., 0.,\n",
       "        0., 0., 0., 0.])"
      ]
     },
     "execution_count": 22,
     "metadata": {},
     "output_type": "execute_result"
    }
   ],
   "source": [
    "x.grad"
   ]
  },
  {
   "cell_type": "code",
   "execution_count": 23,
   "metadata": {},
   "outputs": [],
   "source": [
    "y.backward(torch.ones_like(x))"
   ]
  },
  {
   "cell_type": "code",
   "execution_count": 24,
   "metadata": {},
   "outputs": [
    {
     "data": {
      "text/plain": [
       "tensor([1.8156e-04, 2.2185e-04, 2.7084e-04, 3.3092e-04, 4.0406e-04, 4.9347e-04,\n",
       "        6.0272e-04, 7.3612e-04, 8.9914e-04, 1.0980e-03, 1.3409e-03, 1.6376e-03,\n",
       "        1.9998e-03, 2.4421e-03, 2.9820e-03, 3.6409e-03, 4.4453e-03, 5.4266e-03,\n",
       "        6.6242e-03, 8.0848e-03, 9.8660e-03, 1.2037e-02, 1.4683e-02, 1.7904e-02,\n",
       "        2.1825e-02, 2.6592e-02, 3.2384e-02, 3.9411e-02, 4.7925e-02, 5.8223e-02,\n",
       "        7.0651e-02, 8.5610e-02, 1.0356e-01, 1.2501e-01, 1.5053e-01, 1.8071e-01,\n",
       "        2.1615e-01, 2.5743e-01, 3.0502e-01, 3.5920e-01, 4.1997e-01, 4.8692e-01,\n",
       "        5.5906e-01, 6.3474e-01, 7.1158e-01, 7.8645e-01, 8.5564e-01, 9.1514e-01,\n",
       "        9.6104e-01, 9.9007e-01, 1.0000e+00, 9.9007e-01, 9.6104e-01, 9.1514e-01,\n",
       "        8.5564e-01, 7.8645e-01, 7.1158e-01, 6.3474e-01, 5.5906e-01, 4.8692e-01,\n",
       "        4.1997e-01, 3.5920e-01, 3.0502e-01, 2.5743e-01, 2.1615e-01, 1.8071e-01,\n",
       "        1.5053e-01, 1.2501e-01, 1.0356e-01, 8.5610e-02, 7.0651e-02, 5.8223e-02,\n",
       "        4.7925e-02, 3.9411e-02, 3.2384e-02, 2.6592e-02, 2.1825e-02, 1.7904e-02,\n",
       "        1.4683e-02, 1.2037e-02, 9.8660e-03, 8.0848e-03, 6.6242e-03, 5.4266e-03,\n",
       "        4.4453e-03, 3.6409e-03, 2.9820e-03, 2.4421e-03, 1.9998e-03, 1.6376e-03,\n",
       "        1.3409e-03, 1.0980e-03, 8.9914e-04, 7.3612e-04, 6.0272e-04, 4.9347e-04,\n",
       "        4.0406e-04, 3.3092e-04, 2.7084e-04, 2.2185e-04])"
      ]
     },
     "execution_count": 24,
     "metadata": {},
     "output_type": "execute_result"
    }
   ],
   "source": [
    "x.grad"
   ]
  },
  {
   "cell_type": "code",
   "execution_count": 25,
   "metadata": {},
   "outputs": [
    {
     "data": {
      "image/png": "[encoded data removed]",
      "text/plain": [
       "<Figure size 432x288 with 1 Axes>"
      ]
     },
     "metadata": {
      "needs_background": "light"
     },
     "output_type": "display_data"
    }
   ],
   "source": [
    "plt.plot(x.detach(),x.grad)\n",
    "plt.xlabel(\"x\")\n",
    "plt.ylabel(\"grad(tanh(x))\")\n",
    "plt.grid(True)"
   ]
  }
 ],
 "metadata": {
  "kernelspec": {
   "display_name": "Python 3.8.13 ('pytorch')",
   "language": "python",
   "name": "python3"
  },
  "language_info": {
   "codemirror_mode": {
    "name": "ipython",
    "version": 3
   },
   "file_extension": ".py",
   "mimetype": "text/x-python",
   "name": "python",
   "nbconvert_exporter": "python",
   "pygments_lexer": "ipython3",
   "version": "3.8.13"
  },
  "orig_nbformat": 4,
  "vscode": {
   "interpreter": {
    "hash": "c6a5381c313c4ee6411d11fe4393f2bbb58c85b55ae7c8c208703d8b6049241e"
   }
  }
 },
 "nbformat": 4,
 "nbformat_minor": 2
}
